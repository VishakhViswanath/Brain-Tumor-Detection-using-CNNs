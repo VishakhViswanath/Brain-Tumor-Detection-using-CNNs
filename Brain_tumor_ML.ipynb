{
 "cells": [
  {
   "cell_type": "markdown",
   "id": "621870ba",
   "metadata": {},
   "source": [
    "# Import relevant libraries"
   ]
  },
  {
   "cell_type": "code",
   "execution_count": 1,
   "id": "bbcf35ed",
   "metadata": {},
   "outputs": [],
   "source": [
    "import os\n",
    "import numpy as np\n",
    "import pandas as pd\n",
    "import matplotlib.pyplot as plt\n",
    "import seaborn as sns\n",
    "import keras\n",
    "import tensorflow as tf\n"
   ]
  },
  {
   "cell_type": "code",
   "execution_count": 2,
   "id": "d87f6553",
   "metadata": {},
   "outputs": [
    {
     "ename": "TypeError",
     "evalue": "enable_debug_mode() takes 0 positional arguments but 1 was given",
     "output_type": "error",
     "traceback": [
      "\u001b[1;31m---------------------------------------------------------------------------\u001b[0m",
      "\u001b[1;31mTypeError\u001b[0m                                 Traceback (most recent call last)",
      "Cell \u001b[1;32mIn[2], line 5\u001b[0m\n\u001b[0;32m      2\u001b[0m \u001b[38;5;28;01mfrom\u001b[39;00m \u001b[38;5;21;01mtensorflow\u001b[39;00m\u001b[38;5;21;01m.\u001b[39;00m\u001b[38;5;21;01mkeras\u001b[39;00m\u001b[38;5;21;01m.\u001b[39;00m\u001b[38;5;21;01mpreprocessing\u001b[39;00m\u001b[38;5;21;01m.\u001b[39;00m\u001b[38;5;21;01mimage\u001b[39;00m \u001b[38;5;28;01mimport\u001b[39;00m ImageDataGenerator\n\u001b[0;32m      3\u001b[0m \u001b[38;5;66;03m# tf.config.experimental_run_functions_eagerly(True)\u001b[39;00m\n\u001b[0;32m      4\u001b[0m \u001b[38;5;66;03m# tf.data.experimental.enable_debug_mode(True)\u001b[39;00m\n\u001b[1;32m----> 5\u001b[0m \u001b[43mtf\u001b[49m\u001b[38;5;241;43m.\u001b[39;49m\u001b[43mdata\u001b[49m\u001b[38;5;241;43m.\u001b[39;49m\u001b[43mexperimental\u001b[49m\u001b[38;5;241;43m.\u001b[39;49m\u001b[43menable_debug_mode\u001b[49m\u001b[43m(\u001b[49m\u001b[38;5;28;43;01mTrue\u001b[39;49;00m\u001b[43m)\u001b[49m\n\u001b[0;32m      6\u001b[0m tf\u001b[38;5;241m.\u001b[39mconfig\u001b[38;5;241m.\u001b[39mrun_functions_eagerly(\u001b[38;5;28;01mTrue\u001b[39;00m)\n",
      "\u001b[1;31mTypeError\u001b[0m: enable_debug_mode() takes 0 positional arguments but 1 was given"
     ]
    }
   ],
   "source": [
    "from keras.preprocessing.image import load_img\n",
    "from tensorflow.keras.preprocessing.image import ImageDataGenerator\n",
    "# tf.config.experimental_run_functions_eagerly(True)\n",
    "# tf.data.experimental.enable_debug_mode(True)\n",
    "tf.data.experimental.enable_debug_mode(True)\n",
    "tf.config.run_functions_eagerly(True)"
   ]
  },
  {
   "cell_type": "code",
   "execution_count": null,
   "id": "0dd411a1",
   "metadata": {},
   "outputs": [],
   "source": [
    "img_dir = \"/Users/asus/Documents/DS/## 180 Projects/PROJECTS/Brain tumor project/hands/Brain Tumor Data Set/Brain Tumor Data Set\""
   ]
  },
  {
   "cell_type": "code",
   "execution_count": null,
   "id": "caaf9954",
   "metadata": {},
   "outputs": [],
   "source": [
    "BATCH_SIZE = 64\n",
    "IMAGE_SIZE = 150\n",
    "input_shape = (150,150,1)"
   ]
  },
  {
   "cell_type": "code",
   "execution_count": null,
   "id": "70c9aba2",
   "metadata": {},
   "outputs": [],
   "source": [
    "data_gen = ImageDataGenerator(rescale=1./255,\n",
    "                             validation_split=0.2)\n"
   ]
  },
  {
   "cell_type": "code",
   "execution_count": null,
   "id": "57ef3d34",
   "metadata": {},
   "outputs": [],
   "source": [
    "train_gen = data_gen.flow_from_directory(img_dir,\n",
    "                                        target_size=(IMAGE_SIZE, IMAGE_SIZE),\n",
    "                                        batch_size= BATCH_SIZE,\n",
    "                                        color_mode = \"grayscale\",\n",
    "                                        shuffle=True,\n",
    "                                        class_mode = \"binary\",\n",
    "                                        subset= \"training\")"
   ]
  },
  {
   "cell_type": "code",
   "execution_count": null,
   "id": "42429fb5",
   "metadata": {},
   "outputs": [],
   "source": [
    "val_gen = data_gen.flow_from_directory(img_dir,\n",
    "                                      target_size=(IMAGE_SIZE,IMAGE_SIZE),\n",
    "                                      batch_size=BATCH_SIZE,\n",
    "                                      color_mode = \"grayscale\",\n",
    "                                      shuffle=False,\n",
    "                                       class_mode = \"binary\",\n",
    "                                       subset=\"validation\"\n",
    "                                      )"
   ]
  },
  {
   "cell_type": "code",
   "execution_count": null,
   "id": "0d6d7da6",
   "metadata": {},
   "outputs": [],
   "source": [
    "labels = train_gen.class_indices\n",
    "classes = list(labels.keys())\n",
    "\n",
    "print(classes)"
   ]
  },
  {
   "cell_type": "markdown",
   "id": "e1189f53",
   "metadata": {},
   "source": [
    "## Modelling"
   ]
  },
  {
   "cell_type": "markdown",
   "id": "fe95f050",
   "metadata": {},
   "source": [
    "For the modelling purposes we will use a convolutional neural network"
   ]
  },
  {
   "cell_type": "code",
   "execution_count": null,
   "id": "b48b6113",
   "metadata": {},
   "outputs": [],
   "source": [
    "from keras.models import Sequential\n",
    "from keras.layers import Dense, Conv2D, MaxPooling2D, BatchNormalization, Flatten, Dropout"
   ]
  },
  {
   "cell_type": "code",
   "execution_count": null,
   "id": "d53d6538",
   "metadata": {},
   "outputs": [],
   "source": [
    "model =  Sequential()\n",
    "\n",
    "model.add(keras.layers.InputLayer(input_shape = (150,150,1)))\n",
    "model.add(Conv2D(16,(3,3), activation = \"relu\"))\n",
    "model.add(MaxPooling2D((2,2)))\n",
    "model.add(Conv2D(32,(3,3), activation = \"relu\"))\n",
    "model.add(MaxPooling2D((2,2)))\n",
    "model.add(Flatten())\n",
    "model.add(Dense(512, activation = \"relu\"))\n",
    "model.add(Dropout(0.2))\n",
    "model.add(Dense(1, activation = \"sigmoid\"))"
   ]
  },
  {
   "cell_type": "code",
   "execution_count": null,
   "id": "5ddb2624",
   "metadata": {},
   "outputs": [],
   "source": [
    "model.compile(optimizer=\"adam\",\n",
    "             loss = \"binary_crossentropy\",\n",
    "             metrics=[\"accuracy\"])"
   ]
  },
  {
   "cell_type": "code",
   "execution_count": null,
   "id": "3c9d103c",
   "metadata": {},
   "outputs": [],
   "source": [
    "model.summary()"
   ]
  },
  {
   "cell_type": "code",
   "execution_count": null,
   "id": "7fba91f4",
   "metadata": {},
   "outputs": [],
   "source": []
  },
  {
   "cell_type": "code",
   "execution_count": null,
   "id": "d1da663c",
   "metadata": {},
   "outputs": [],
   "source": [
    "with tf.device('/device:GPU:0'):\n",
    "    history = model.fit(train_gen,\n",
    "                        verbose = 1,\n",
    "                        epochs=5,\n",
    "                        validation_data= val_gen,\n",
    "                        steps_per_epoch= 3681//64,\n",
    "                        validation_steps = 919//64)"
   ]
  },
  {
   "cell_type": "code",
   "execution_count": null,
   "id": "7ca349e7",
   "metadata": {},
   "outputs": [],
   "source": [
    "test_loss, test_acc =  model.evaluate(val_gen)"
   ]
  },
  {
   "cell_type": "code",
   "execution_count": null,
   "id": "8817e194",
   "metadata": {},
   "outputs": [],
   "source": [
    "loss = history.history[\"loss\"]\n",
    "val_loss = history.history[\"val_loss\"]\n",
    "\n",
    "epochs = range(1, len(loss) + 1)\n",
    "\n",
    "plt.plot(epochs, loss, \"y\", label = \"Training loss\")\n",
    "plt.plot(epochs, val_loss, 'r', label = \"Validation loss\")\n",
    "\n",
    "plt.title('Training and validation loss')\n",
    "plt.xlabel(\"Epochs\")\n",
    "plt.ylabel('Loss')\n",
    "\n",
    "plt.legend()\n",
    "plt.show()\n",
    "\n",
    "\n",
    "acc =  history.history[\"accuracy\"]\n",
    "val_acc = history.history[\"val_accuracy\"]\n",
    "plt.plot(epochs, acc, 'y', label = \"Training acc\")\n",
    "plt.plot(epochs, val_acc, 'r', label = \"Validation acc\")\n",
    "plt.xlabel(\"Epochs\")\n",
    "plt.ylabel(\"Accuracy\")\n",
    "\n",
    "plt.legend()\n",
    "plt.show()"
   ]
  },
  {
   "cell_type": "code",
   "execution_count": null,
   "id": "4d119d94",
   "metadata": {},
   "outputs": [],
   "source": [
    "# model.save(\"model.h5\")\n",
    "model.save(\"model.keras\")"
   ]
  },
  {
   "cell_type": "code",
   "execution_count": null,
   "id": "b4356c1c",
   "metadata": {},
   "outputs": [],
   "source": [
    "from matplotlib.pyplot import imshow\n",
    "from PIL import Image, ImageOps\n",
    "\n",
    "data = np.ndarray(shape = (1,150,150,1), dtype = np.float32)\n",
    "image= Image.open(f'/Users/asus/Documents/DS/## 180 Projects/PROJECTS/Brain tumor project/hands/Brain Tumor Data Set/Brain Tumor Data Set/Healthy/Not Cancer  (39).jpg')\n",
    "#image = Image.open(f'/Users/asus/Documents/DS/## 180 Projects/PROJECTS/Brain tumor project/hands/Brain Tumor Data Set/Brain Tumor Data Set/Brain Tumor/Cancer (25).tif')\n",
    "size = (150,150)\n",
    "image = ImageOps.grayscale(image)\n",
    "image = ImageOps.fit(image, size)\n",
    "image_array = np.asarray(image)\n",
    "display(image)\n",
    "\n",
    "# normalized_image_array = (image_array.astype(np.float32) / 127.0) - 1\n",
    "data = image_array.reshape((-1,150,150,1))\n",
    "\n",
    "#data[0] = normalized_image_array"
   ]
  },
  {
   "cell_type": "code",
   "execution_count": null,
   "id": "64f1e8c6",
   "metadata": {},
   "outputs": [],
   "source": [
    "prediction =  model.predict(data)\n",
    "print(prediction[0][0])"
   ]
  },
  {
   "cell_type": "code",
   "execution_count": null,
   "id": "002b6849",
   "metadata": {},
   "outputs": [],
   "source": []
  }
 ],
 "metadata": {
  "kernelspec": {
   "display_name": "Python [conda env:.conda-TFenv]",
   "language": "python",
   "name": "conda-env-.conda-TFenv-py"
  },
  "language_info": {
   "codemirror_mode": {
    "name": "ipython",
    "version": 3
   },
   "file_extension": ".py",
   "mimetype": "text/x-python",
   "name": "python",
   "nbconvert_exporter": "python",
   "pygments_lexer": "ipython3",
   "version": "3.8.19"
  }
 },
 "nbformat": 4,
 "nbformat_minor": 5
}
